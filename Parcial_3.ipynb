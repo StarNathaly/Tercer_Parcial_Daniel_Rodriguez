{
  "nbformat": 4,
  "nbformat_minor": 0,
  "metadata": {
    "colab": {
      "provenance": [],
      "authorship_tag": "ABX9TyNfDZzE2UTT77J9BnKLM0GT",
      "include_colab_link": true
    },
    "kernelspec": {
      "name": "python3",
      "display_name": "Python 3"
    },
    "language_info": {
      "name": "python"
    }
  },
  "cells": [
    {
      "cell_type": "markdown",
      "metadata": {
        "id": "view-in-github",
        "colab_type": "text"
      },
      "source": [
        "<a href=\"https://colab.research.google.com/github/StarNathaly/Tercer_Parcial_Daniel_Rodriguez/blob/main/Parcial_3.ipynb\" target=\"_parent\"><img src=\"https://colab.research.google.com/assets/colab-badge.svg\" alt=\"Open In Colab\"/></a>"
      ]
    },
    {
      "cell_type": "code",
      "source": [
        "import random\n",
        "\n",
        "def juego_adivinanza():\n",
        "    numero_secreto = random.randint(1, 100)  # Genera un número aleatorio\n",
        "    intentos_restantes = 7\n",
        "\n",
        "    print(\"¡Bienvenido al juego de adivinanza!\")\n",
        "    print(\"Debes adivinar un número entre 1 y 100. Tienes 7 intentos.\\n\")\n",
        "\n",
        "    while intentos_restantes > 0:\n",
        "        try:\n",
        "            numero_usuario = int(input(f\"Intento {8 - intentos_restantes}/7 ➜ Ingresa un número: \"))\n",
        "\n",
        "            if numero_usuario < 1 or numero_usuario > 100:\n",
        "                print(\"Número fuera de rango. Debes ingresar un número entre 1 y 100.\")\n",
        "                continue  # No se descuenta intento\n",
        "\n",
        "            if numero_usuario == numero_secreto:\n",
        "                print(f\"¡Felicidades! Adivinaste el número {numero_secreto} en {8 - intentos_restantes} intentos.\")\n",
        "                return  # Fin del juego\n",
        "\n",
        "            elif numero_usuario > numero_secreto:\n",
        "                print(\"El número es menor.\")\n",
        "            else:\n",
        "                print(\"El número es mayor.\")\n",
        "\n",
        "            intentos_restantes -= 1  # Se reduce un intento\n",
        "\n",
        "        except ValueError:\n",
        "            print(\"⚠ Entrada inválida. Debes ingresar un número entero.\")\n",
        "\n",
        "    print(f\" Game Over. El número era {numero_secreto}.\")\n",
        "\n",
        "# Ejecutar el juego\n",
        "juego_adivinanza()"
      ],
      "metadata": {
        "colab": {
          "base_uri": "https://localhost:8080/"
        },
        "id": "KXrUbjZpd0_0",
        "outputId": "a72bdb1e-3d66-4e11-a176-027e42a46dd8"
      },
      "execution_count": 2,
      "outputs": [
        {
          "output_type": "stream",
          "name": "stdout",
          "text": [
            "¡Bienvenido al juego de adivinanza!\n",
            "Debes adivinar un número entre 1 y 100. Tienes 7 intentos.\n",
            "\n",
            "Intento 1/7 ➜ Ingresa un número: 50\n",
            "El número es menor.\n",
            "Intento 2/7 ➜ Ingresa un número: 20\n",
            "El número es mayor.\n",
            "Intento 3/7 ➜ Ingresa un número: 30\n",
            "El número es mayor.\n",
            "Intento 4/7 ➜ Ingresa un número: 40\n",
            "El número es mayor.\n",
            "Intento 5/7 ➜ Ingresa un número: 45\n",
            "El número es mayor.\n",
            "Intento 6/7 ➜ Ingresa un número: 47\n",
            "El número es mayor.\n",
            "Intento 7/7 ➜ Ingresa un número: 48\n",
            "El número es mayor.\n",
            " Game Over. El número era 49.\n"
          ]
        }
      ]
    }
  ]
}